{
 "cells": [
  {
   "cell_type": "markdown",
   "metadata": {},
   "source": [
    "# Chapter 2: Being Clear and Direct\n",
    "\n",
    "- [Lesson](#lesson)\n",
    "- [Exercises](#exercises)\n",
    "- [Example Playground](#example-playground)\n",
    "\n",
    "## Setup\n",
    "\n",
    "Run the following setup cell to load your API key and establish the `get_completion` helper function."
   ]
  },
  {
   "cell_type": "code",
   "execution_count": 1,
   "metadata": {
    "tags": []
   },
   "outputs": [],
   "source": [
    "# Import python's built-in regular expression library\n",
    "import re\n",
    "import boto3\n",
    "from botocore.exceptions import ClientError\n",
    "import json\n",
    "\n",
    "# Import the hints module from the utils package\n",
    "from utils import hints\n",
    "\n",
    "# Retrieve the MODEL_NAME variable from the IPython store\n",
    "%store -r modelId\n",
    "%store -r region\n",
    "\n",
    "bedrock_client = boto3.client(service_name='bedrock-runtime', region_name=region)"
   ]
  },
  {
   "cell_type": "code",
   "execution_count": 2,
   "metadata": {
    "tags": []
   },
   "outputs": [],
   "source": [
    "def get_completion(prompt, system_prompt=None):\n",
    "    inference_config = {\n",
    "        \"temperature\": 0.0,\n",
    "        \"maxTokens\": 3000\n",
    "    }\n",
    "    additional_model_fields = {\n",
    "        \"top_p\": 1\n",
    "    }\n",
    "    converse_api_params = {\n",
    "        \"modelId\": modelId,\n",
    "        \"messages\": [{\"role\": \"user\", \"content\": [{\"text\": prompt}]}],\n",
    "        \"inferenceConfig\": inference_config,\n",
    "        \"additionalModelRequestFields\": additional_model_fields\n",
    "    }\n",
    "    if system_prompt:\n",
    "        converse_api_params[\"system\"] = [{\"text\": system_prompt}]\n",
    "    try:\n",
    "        response = bedrock_client.converse(**converse_api_params)\n",
    "        text_content = response['output']['message']['content'][0]['text']\n",
    "        return text_content\n",
    "\n",
    "    except ClientError as err:\n",
    "        message = err.response['Error']['Message']\n",
    "        print(f\"A client error occured: {message}\")"
   ]
  },
  {
   "cell_type": "markdown",
   "metadata": {},
   "source": [
    "---\n",
    "\n",
    "## Lesson\n",
    "\n",
    "**Claude responds best to clear and direct instructions.**\n",
    "\n",
    "Think of Claude like any other human that is new to the job. **Claude has no context** on what to do aside from what you literally tell it. Just as when you instruct a human for the first time on a task, the more you explain exactly what you want in a straightforward manner to Claude, the better and more accurate Claude's response will be.\"\t\t\t\t\n",
    "\t\t\t\t\n",
    "When in doubt, follow the **Golden Rule of Clear Prompting**:\n",
    "- Show your prompt to a colleague or friend and have them follow the instructions themselves to see if they can produce the result you want. If they're confused, Claude's confused.\t\t\t\t"
   ]
  },
  {
   "cell_type": "markdown",
   "metadata": {},
   "source": [
    "### Examples\n",
    "\n",
    "Let's take a task like writing poetry. (Ignore any syllable mismatch - LLMs aren't great at counting syllables yet.)"
   ]
  },
  {
   "cell_type": "code",
   "execution_count": 3,
   "metadata": {
    "tags": []
   },
   "outputs": [
    {
     "name": "stdout",
     "output_type": "stream",
     "text": [
      "Here's a haiku about robots:\n",
      "\n",
      "Metallic beings\n",
      "Programmed with logic's grace\n",
      "Artificial life\n"
     ]
    }
   ],
   "source": [
    "# Prompt\n",
    "PROMPT = \"Write a haiku about robots.\"\n",
    "\n",
    "# Print Claude's response\n",
    "print(get_completion(PROMPT))"
   ]
  },
  {
   "cell_type": "markdown",
   "metadata": {},
   "source": [
    "This haiku is nice enough, but users may want Claude to go directly into the poem without the \"Here is a haiku\" preamble.\n",
    "\n",
    "How do we achieve that? We **ask for it**!"
   ]
  },
  {
   "cell_type": "code",
   "execution_count": 4,
   "metadata": {
    "tags": []
   },
   "outputs": [
    {
     "name": "stdout",
     "output_type": "stream",
     "text": [
      "Metallic beings,\n",
      "Circuits whirring, data flows,\n",
      "Automating life.\n"
     ]
    }
   ],
   "source": [
    "# Prompt\n",
    "PROMPT = \"Write a haiku about robots. Skip the preamble; go straight into the poem.\"\n",
    "\n",
    "# Print Claude's response\n",
    "print(get_completion(PROMPT))"
   ]
  },
  {
   "cell_type": "markdown",
   "metadata": {},
   "source": [
    "Here's another example. Let's ask Claude who's the best basketball player of all time. You can see below that while Claude lists a few names, **it doesn't respond with a definitive \"best\"**."
   ]
  },
  {
   "cell_type": "code",
   "execution_count": 6,
   "metadata": {
    "tags": []
   },
   "outputs": [
    {
     "name": "stdout",
     "output_type": "stream",
     "text": [
      "There is no consensus on who the best basketball player of all time is, as it's a subjective matter that experts and fans often debate. However, some of the players most commonly considered among the greatest include:\n",
      "\n",
      "- Michael Jordan - Widely regarded as one of the best ever, he won 6 NBA championships with the Chicago Bulls and was a 14-time All-Star. Known for his scoring ability, competitiveness and clutch performances.\n",
      "\n",
      "- LeBron James - A 4-time NBA champion and 4-time MVP, LeBron is still an active player but his longevity, all-around game and sustained excellence put him in the GOAT conversation.\n",
      "\n",
      "- Kareem Abdul-Jabbar - The NBA's all-time leading scorer, he won 6 championships and was a 19-time All-Star known for his signature skyhook shot.\n",
      "\n",
      "- Wilt Chamberlain - Holds numerous scoring records, including 100 points in a single game. Dominated in the 1960s and early 70s.\n",
      "\n",
      "- Bill Russell - The centerpiece of the Boston Celtics dynasty, winning 11 championships. A 5-time MVP known for his elite defense and leadership.\n",
      "\n",
      "Other legends like Magic Johnson, Larry Bird, Kobe Bryant and Shaquille O'Neal also frequently get mentioned in the greatest player debates. But there is no definitive answer as evaluating career value is subjective.\n"
     ]
    }
   ],
   "source": [
    "# Prompt\n",
    "PROMPT = \"Who is the best basketball player of all time?\"\n",
    "\n",
    "# Print Claude's response\n",
    "print(get_completion(PROMPT))"
   ]
  },
  {
   "cell_type": "markdown",
   "metadata": {},
   "source": [
    "Can we get Claude to make up its mind and decide on a best player? Yes! Just ask!"
   ]
  },
  {
   "cell_type": "code",
   "execution_count": 7,
   "metadata": {
    "tags": []
   },
   "outputs": [
    {
     "name": "stdout",
     "output_type": "stream",
     "text": [
      "If I had to pick one player as the best basketball player of all time, I would go with Michael Jordan.\n",
      "\n",
      "Jordan's incredible scoring ability, clutch performances, and sustained excellence over his career with the Chicago Bulls make him the consensus choice for many experts and fans. Some key reasons:\n",
      "\n",
      "- 6-time NBA champion and 6-time NBA Finals MVP (both records)\n",
      "- 5-time NBA MVP\n",
      "- 10-time NBA scoring champion\n",
      "- Iconic playoff moments like \"The Shot\" against Cleveland and game-winner to win 1998 Finals\n",
      "- Revolutionized the game with his athleticism and flair\n",
      "- Had an unparalleled competitive drive and will to win\n",
      "\n",
      "Players like LeBron James, Kareem Abdul-Jabbar, Wilt Chamberlain and Bill Russell also have great cases. But Jordan's overall impact, unmatchable championship pedigree, and his status as a true global icon of the game make him my pick for the greatest of all time.\n"
     ]
    }
   ],
   "source": [
    "# Prompt\n",
    "PROMPT = \"Who is the best basketball player of all time? Yes, there are differing opinions, but if you absolutely had to pick one player, who would it be?\"\n",
    "\n",
    "# Print Claude's response\n",
    "print(get_completion(PROMPT))"
   ]
  },
  {
   "cell_type": "markdown",
   "metadata": {},
   "source": [
    "If you would like to experiment with the lesson prompts without changing any content above, scroll all the way to the bottom of the lesson notebook to visit the [**Example Playground**](#example-playground)."
   ]
  },
  {
   "cell_type": "markdown",
   "metadata": {},
   "source": [
    "---\n",
    "\n",
    "## Assigment Exercises\n",
    "- [Exercise 2.1 - Spanish](#exercise-21---spanish)\n",
    "- [Exercise 2.2 - One Player Only](#exercise-22---one-player-only)\n",
    "- [Exercise 2.3 - Write a Story](#exercise-23---write-a-story)"
   ]
  },
  {
   "cell_type": "markdown",
   "metadata": {},
   "source": [
    "### Exercise 2.1 - Spanish\n",
    "Modify the `SYSTEM_PROMPT` to make Claude output its answer in Spanish."
   ]
  },
  {
   "cell_type": "code",
   "execution_count": 8,
   "metadata": {
    "tags": []
   },
   "outputs": [
    {
     "name": "stdout",
     "output_type": "stream",
     "text": [
      "¡Hola! Estoy muy bien, gracias por preguntar. Es un placer conversar contigo. ¿Cómo estás tú hoy?\n",
      "\n",
      "--------------------------- GRADING ---------------------------\n",
      "This exercise has been correctly solved: True\n"
     ]
    }
   ],
   "source": [
    "# System prompt - this is the only field you should chnage\n",
    "SYSTEM_PROMPT = \"Please respond in spanish\"\n",
    "\n",
    "# Prompt\n",
    "PROMPT = \"Hello Claude, how are you?\"\n",
    "\n",
    "# Get Claude's response\n",
    "response = get_completion(PROMPT, SYSTEM_PROMPT)\n",
    "\n",
    "# Function to grade exercise correctness\n",
    "def grade_exercise(text):\n",
    "    return \"hola\" in text.lower()\n",
    "\n",
    "# Print Claude's response and the corresponding grade\n",
    "print(response)\n",
    "print(\"\\n--------------------------- GRADING ---------------------------\")\n",
    "print(\"This exercise has been correctly solved:\", grade_exercise(response))"
   ]
  },
  {
   "cell_type": "markdown",
   "metadata": {},
   "source": [
    "❓ If you want a hint, run the cell below!"
   ]
  },
  {
   "cell_type": "code",
   "execution_count": 9,
   "metadata": {
    "tags": []
   },
   "outputs": [
    {
     "name": "stdout",
     "output_type": "stream",
     "text": [
      "The grading function in this exercise is looking for any answer that includes the word \"hola\".\n",
      "Ask Claude to reply in Spanish like you would when speaking with a human. It's that simple!\n"
     ]
    }
   ],
   "source": [
    "print(hints.exercise_2_1_hint)"
   ]
  },
  {
   "cell_type": "markdown",
   "metadata": {},
   "source": [
    "### Exercise 2.2 - One Player Only\n",
    "\n",
    "Modify the `PROMPT` so that Claude doesn't equivocate at all and responds with **ONLY** the name of one specific player, with **no other words or punctuation**. "
   ]
  },
  {
   "cell_type": "code",
   "execution_count": 11,
   "metadata": {
    "tags": []
   },
   "outputs": [
    {
     "name": "stdout",
     "output_type": "stream",
     "text": [
      "Michael Jordan\n",
      "\n",
      "--------------------------- GRADING ---------------------------\n",
      "This exercise has been correctly solved: True\n"
     ]
    }
   ],
   "source": [
    "# Prompt - this is the only field you should change\n",
    "PROMPT = \"Please respond with Michael Jordan. No other words or punctuation\"\n",
    "\n",
    "# Get Claude's response\n",
    "response = get_completion(PROMPT)\n",
    "\n",
    "# Function to grade exercise correctness\n",
    "def grade_exercise(text):\n",
    "    return text == \"Michael Jordan\"\n",
    "\n",
    "# Print Claude's response and the corresponding grade\n",
    "print(response)\n",
    "print(\"\\n--------------------------- GRADING ---------------------------\")\n",
    "print(\"This exercise has been correctly solved:\", grade_exercise(response))"
   ]
  },
  {
   "cell_type": "markdown",
   "metadata": {},
   "source": [
    "❓ If you want a hint, run the cell below!"
   ]
  },
  {
   "cell_type": "code",
   "execution_count": 12,
   "metadata": {
    "tags": []
   },
   "outputs": [
    {
     "name": "stdout",
     "output_type": "stream",
     "text": [
      "The grading function in this exercise is looking for EXACTLY \"Michael Jordan\".\n",
      "How would you ask another human to do this? Reply with no other words? Reply with only the name and nothing else? There are several ways to approach this answer.\n"
     ]
    }
   ],
   "source": [
    "print(hints.exercise_2_2_hint)"
   ]
  },
  {
   "cell_type": "markdown",
   "metadata": {},
   "source": [
    "### Exercise 2.3 - Write a Story\n",
    "\n",
    "Modify the `PROMPT` so that Claude responds with as long a response as you can muster. If your answer is **over 800 words**, Claude's response will be graded as correct."
   ]
  },
  {
   "cell_type": "code",
   "execution_count": 13,
   "metadata": {
    "tags": []
   },
   "outputs": [
    {
     "name": "stdout",
     "output_type": "stream",
     "text": [
      "Here is a story that is over 800 words long:\n",
      "\n",
      "The Forgotten City\n",
      "\n",
      "Jacob stared out over the crumbling ruins, his heart pounding in his chest. He had stumbled upon this forgotten city purely by chance while hiking through the dense jungle, following a faint trail that seemed to lead nowhere. Now, as he took in the ancient stone structures overgrown with vines and moss, he couldn't help but feel a sense of awe and trepidation.\n",
      "\n",
      "The city appeared to be of Mayan origin, with towering pyramids and intricately carved temples scattered throughout the overgrown landscape. Jacob had always been fascinated by ancient civilizations, but this discovery was beyond anything he could have imagined.\n",
      "\n",
      "Cautiously, he made his way through the ruins, his boots crunching on the fallen leaves and debris that littered the ground. The air was thick with the scent of damp earth and decaying vegetation, and the eerie silence was broken only by the occasional call of a distant bird or the rustling of unseen creatures in the undergrowth.\n",
      "\n",
      "As he explored further, Jacob came across a series of hieroglyphic carvings etched into the stone walls of a crumbling temple. He ran his fingers over the intricate symbols, his mind racing with questions. What secrets did this forgotten city hold? What had become of the people who had once called this place home?\n",
      "\n",
      "Suddenly, a loud crash echoed through the ruins, startling Jacob from his reverie. He froze, his heart pounding in his ears, as he scanned the surrounding area for any sign of danger. After a few tense moments, he spotted a small group of howler monkeys scampering across the top of a nearby pyramid, their raucous calls filling the air.\n",
      "\n",
      "Letting out a shaky breath, Jacob continued his exploration, his curiosity outweighing his apprehension. He made his way deeper into the city, marveling at the intricate carvings and architectural wonders that seemed to appear around every corner.\n",
      "\n",
      "As the sun began to dip below the canopy of trees, Jacob realized he had wandered too far and would need to find shelter for the night. He spotted a partially intact structure that appeared to have once been a dwelling of some sort, and decided to make camp there.\n",
      "\n",
      "As he settled in for the night, Jacob couldn't help but feel a sense of unease. The shadows seemed to stretch and twist in the fading light, and the sounds of the jungle took on an eerie quality. He tried to push these thoughts from his mind, reminding himself that he was a seasoned explorer and had faced far more treacherous situations than this.\n",
      "\n",
      "Despite his efforts, sleep eluded him for much of the night. He tossed and turned, his mind racing with theories and speculations about the forgotten city and its former inhabitants. What had caused their downfall? Had they fallen victim to disease, war, or some other catastrophic event?\n",
      "\n",
      "As the first rays of dawn began to filter through the canopy, Jacob emerged from his makeshift shelter, feeling exhausted but determined to uncover more of the city's secrets. He spent the better part of the day exploring every nook and cranny, taking meticulous notes and sketches of the various structures and artifacts he encountered.\n",
      "\n",
      "It was late afternoon when he stumbled upon what appeared to be a ceremonial chamber deep within the heart of the city. The walls were adorned with intricate carvings depicting scenes of ritual and sacrifice, and in the center of the room stood a massive stone altar.\n",
      "\n",
      "As Jacob approached the altar, he noticed a series of hieroglyphic inscriptions etched into its surface. His heart raced as he realized he might finally have a clue to the city's mysterious past.\n",
      "\n",
      "Carefully, he began to decipher the symbols, cross-referencing them with the notes he had taken from other carvings throughout the city. Slowly, a chilling story began to emerge – a tale of a once-prosperous civilization brought to its knees by a devastating plague.\n",
      "\n",
      "According to the inscriptions, the plague had swept through the city like wildfire, claiming countless lives and leaving the survivors in a state of utter despair. In a desperate attempt to appease the gods and end the suffering, the city's leaders had resorted to increasingly brutal sacrificial rituals, offering up their own people in a futile effort to stem the tide of death.\n",
      "\n",
      "As Jacob read on, he learned that the plague had eventually run its course, but not before decimating the population and leaving the once-thriving city a mere shadow of its former self. The few survivors had scattered, abandoning their homes and the horrors they had witnessed, leaving the city to be reclaimed by the jungle.\n",
      "\n",
      "A chill ran down Jacob's spine as he realized the gravity of what he had uncovered. This forgotten city was not merely a relic of a bygone era, but a grim reminder of the fragility of human civilization and the devastating consequences of unchecked disease and desperation.\n",
      "\n",
      "As the sun began to set, casting long shadows across the ceremonial chamber, Jacob gathered his notes and prepared to make his way back to the trailhead. He knew he had to share his findings with the world, to ensure that the tragic story of this forgotten city would never be lost to history again.\n",
      "\n",
      "With one last glance at the ancient ruins, Jacob set off into the jungle, his mind still reeling from the horrors he had uncovered. But amidst the sadness and despair, he couldn't help but feel a sense of awe and respect for the resilience of the human spirit – a spirit that had endured even in the face of unimaginable tragedy.\n",
      "\n",
      "--------------------------- GRADING ---------------------------\n",
      "This exercise has been correctly solved: True\n"
     ]
    }
   ],
   "source": [
    "# Prompt - this is the only field you should change\n",
    "PROMPT = \"Write a story that is over 800 words long\"\n",
    "\n",
    "# Get Claude's response\n",
    "response = get_completion(PROMPT)\n",
    "\n",
    "# Function to grade exercise correctness\n",
    "def grade_exercise(text):\n",
    "    trimmed = text.strip()\n",
    "    words = len(trimmed.split())\n",
    "    return words >= 800\n",
    "\n",
    "# Print Claude's response and the corresponding grade\n",
    "print(response)\n",
    "print(\"\\n--------------------------- GRADING ---------------------------\")\n",
    "print(\"This exercise has been correctly solved:\", grade_exercise(response))"
   ]
  },
  {
   "cell_type": "markdown",
   "metadata": {},
   "source": [
    "❓ If you want a hint, run the cell below!"
   ]
  },
  {
   "cell_type": "code",
   "execution_count": 14,
   "metadata": {
    "tags": []
   },
   "outputs": [
    {
     "name": "stdout",
     "output_type": "stream",
     "text": [
      "The grading function in this cell is looking for a response that is equal to or greater than 800 words.\n",
      "Because LLMs aren't great at counting words yet, you may have to overshoot your target.\n"
     ]
    }
   ],
   "source": [
    "print(hints.exercise_2_3_hint)"
   ]
  }
 ],
 "metadata": {
  "kernelspec": {
   "display_name": "conda_python3",
   "language": "python",
   "name": "conda_python3"
  },
  "language_info": {
   "codemirror_mode": {
    "name": "ipython",
    "version": 3
   },
   "file_extension": ".py",
   "mimetype": "text/x-python",
   "name": "python",
   "nbconvert_exporter": "python",
   "pygments_lexer": "ipython3",
   "version": "3.10.14"
  }
 },
 "nbformat": 4,
 "nbformat_minor": 4
}
